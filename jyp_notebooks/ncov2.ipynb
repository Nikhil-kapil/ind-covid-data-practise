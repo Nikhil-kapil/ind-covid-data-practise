{
 "cells": [
  {
   "cell_type": "code",
   "execution_count": 1,
   "metadata": {},
   "outputs": [],
   "source": [
    "import pandas as pd\n",
    "\n",
    "df = pd.read_csv('/home/bhanu/covidDatacamp/covid19india.csv')"
   ]
  },
  {
   "cell_type": "code",
   "execution_count": 2,
   "metadata": {},
   "outputs": [
    {
     "data": {
      "text/plain": [
       "array([[1, '30/01/20', 'Kerala', ..., 0, 0, 0],\n",
       "       [2, '31/01/20', 'Kerala', ..., 0, 0, 0],\n",
       "       [3, '01/02/20', 'Kerala', ..., 0, 0, 0],\n",
       "       ...,\n",
       "       [417, '27/03/20', 'Uttarakhand', ..., 1, 0, 0],\n",
       "       [418, '27/03/20', 'Uttar Pradesh', ..., 1, 11, 0],\n",
       "       [419, '27/03/20', 'West Bengal', ..., 0, 0, 1]], dtype=object)"
      ]
     },
     "execution_count": 2,
     "metadata": {},
     "output_type": "execute_result"
    }
   ],
   "source": [
    "df.values"
   ]
  }
 ],
 "metadata": {
  "kernelspec": {
   "display_name": "Python 3",
   "language": "python",
   "name": "python3"
  },
  "language_info": {
   "codemirror_mode": {
    "name": "ipython",
    "version": 3
   },
   "file_extension": ".py",
   "mimetype": "text/x-python",
   "name": "python",
   "nbconvert_exporter": "python",
   "pygments_lexer": "ipython3",
   "version": "3.7.6"
  }
 },
 "nbformat": 4,
 "nbformat_minor": 4
}
