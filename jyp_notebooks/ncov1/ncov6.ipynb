{
 "cells": [
  {
   "cell_type": "code",
   "execution_count": 1,
   "metadata": {},
   "outputs": [],
   "source": [
    "import pandas as pd\n",
    "import matplotlib.pyplot as plt\n",
    "\n",
    "df = pd.read_csv('/home/bhanu/ind-covid-data-practise/covid19india.csv')\n",
    "df = df.drop(columns  = ['Sno', 'Time', 'ConfirmedIndianNational', 'ConfirmedForeignNational', 'Cured', 'Deaths'])\n",
    "\n",
    "# correcting time format according to ISO standards\n",
    "time_format= '%d/%m/%y'\n",
    "df['Date'] = pd.to_datetime(df['Date'], format=time_format)"
   ]
  },
  {
   "cell_type": "code",
   "execution_count": 2,
   "metadata": {},
   "outputs": [
    {
     "data": {
      "text/html": [
       "<div>\n",
       "<style scoped>\n",
       "    .dataframe tbody tr th:only-of-type {\n",
       "        vertical-align: middle;\n",
       "    }\n",
       "\n",
       "    .dataframe tbody tr th {\n",
       "        vertical-align: top;\n",
       "    }\n",
       "\n",
       "    .dataframe thead th {\n",
       "        text-align: right;\n",
       "    }\n",
       "</style>\n",
       "<table border=\"1\" class=\"dataframe\">\n",
       "  <thead>\n",
       "    <tr style=\"text-align: right;\">\n",
       "      <th></th>\n",
       "      <th>Date</th>\n",
       "      <th>State/UnionTerritory</th>\n",
       "      <th>Confirmed</th>\n",
       "    </tr>\n",
       "  </thead>\n",
       "  <tbody>\n",
       "    <tr>\n",
       "      <th>0</th>\n",
       "      <td>2020-01-30</td>\n",
       "      <td>Kerala</td>\n",
       "      <td>1</td>\n",
       "    </tr>\n",
       "    <tr>\n",
       "      <th>1</th>\n",
       "      <td>2020-01-31</td>\n",
       "      <td>Kerala</td>\n",
       "      <td>1</td>\n",
       "    </tr>\n",
       "    <tr>\n",
       "      <th>2</th>\n",
       "      <td>2020-02-01</td>\n",
       "      <td>Kerala</td>\n",
       "      <td>2</td>\n",
       "    </tr>\n",
       "    <tr>\n",
       "      <th>3</th>\n",
       "      <td>2020-02-02</td>\n",
       "      <td>Kerala</td>\n",
       "      <td>3</td>\n",
       "    </tr>\n",
       "    <tr>\n",
       "      <th>4</th>\n",
       "      <td>2020-02-03</td>\n",
       "      <td>Kerala</td>\n",
       "      <td>3</td>\n",
       "    </tr>\n",
       "  </tbody>\n",
       "</table>\n",
       "</div>"
      ],
      "text/plain": [
       "        Date State/UnionTerritory  Confirmed\n",
       "0 2020-01-30               Kerala          1\n",
       "1 2020-01-31               Kerala          1\n",
       "2 2020-02-01               Kerala          2\n",
       "3 2020-02-02               Kerala          3\n",
       "4 2020-02-03               Kerala          3"
      ]
     },
     "execution_count": 2,
     "metadata": {},
     "output_type": "execute_result"
    }
   ],
   "source": [
    "df.head()"
   ]
  },
  {
   "cell_type": "code",
   "execution_count": 3,
   "metadata": {},
   "outputs": [
    {
     "data": {
      "text/html": [
       "<div>\n",
       "<style scoped>\n",
       "    .dataframe tbody tr th:only-of-type {\n",
       "        vertical-align: middle;\n",
       "    }\n",
       "\n",
       "    .dataframe tbody tr th {\n",
       "        vertical-align: top;\n",
       "    }\n",
       "\n",
       "    .dataframe thead th {\n",
       "        text-align: right;\n",
       "    }\n",
       "</style>\n",
       "<table border=\"1\" class=\"dataframe\">\n",
       "  <thead>\n",
       "    <tr style=\"text-align: right;\">\n",
       "      <th></th>\n",
       "      <th>Date</th>\n",
       "      <th>State/UnionTerritory</th>\n",
       "      <th>Confirmed</th>\n",
       "    </tr>\n",
       "  </thead>\n",
       "  <tbody>\n",
       "    <tr>\n",
       "      <th>551</th>\n",
       "      <td>2020-04-01</td>\n",
       "      <td>Tamil Nadu</td>\n",
       "      <td>124</td>\n",
       "    </tr>\n",
       "    <tr>\n",
       "      <th>552</th>\n",
       "      <td>2020-04-01</td>\n",
       "      <td>Telengana</td>\n",
       "      <td>94</td>\n",
       "    </tr>\n",
       "    <tr>\n",
       "      <th>553</th>\n",
       "      <td>2020-04-01</td>\n",
       "      <td>Uttarakhand</td>\n",
       "      <td>7</td>\n",
       "    </tr>\n",
       "    <tr>\n",
       "      <th>554</th>\n",
       "      <td>2020-04-01</td>\n",
       "      <td>Uttar Pradesh</td>\n",
       "      <td>103</td>\n",
       "    </tr>\n",
       "    <tr>\n",
       "      <th>555</th>\n",
       "      <td>2020-04-01</td>\n",
       "      <td>West Bengal</td>\n",
       "      <td>26</td>\n",
       "    </tr>\n",
       "  </tbody>\n",
       "</table>\n",
       "</div>"
      ],
      "text/plain": [
       "          Date State/UnionTerritory  Confirmed\n",
       "551 2020-04-01           Tamil Nadu        124\n",
       "552 2020-04-01            Telengana         94\n",
       "553 2020-04-01          Uttarakhand          7\n",
       "554 2020-04-01        Uttar Pradesh        103\n",
       "555 2020-04-01          West Bengal         26"
      ]
     },
     "execution_count": 3,
     "metadata": {},
     "output_type": "execute_result"
    }
   ],
   "source": [
    "df.tail()"
   ]
  },
  {
   "cell_type": "code",
   "execution_count": 4,
   "metadata": {},
   "outputs": [
    {
     "data": {
      "text/plain": [
       "array(['Kerala', 'Telengana', 'Delhi', 'Rajasthan', 'Uttar Pradesh',\n",
       "       'Haryana', 'Ladakh', 'Tamil Nadu', 'Karnataka', 'Maharashtra',\n",
       "       'Punjab', 'Jammu and Kashmir', 'Andhra Pradesh', 'Uttarakhand',\n",
       "       'Odisha', 'Pondicherry', 'West Bengal', 'Chattisgarh',\n",
       "       'Chandigarh', 'Chhattisgarh', 'Gujarat', 'Puducherry',\n",
       "       'Himachal Pradesh', 'Madhya Pradesh', 'Bihar', 'Manipur',\n",
       "       'Mizoram', 'Andaman and Nicobar Islands', 'Goa', 'Unassigned'],\n",
       "      dtype=object)"
      ]
     },
     "execution_count": 4,
     "metadata": {},
     "output_type": "execute_result"
    }
   ],
   "source": [
    "df['State/UnionTerritory'].unique()"
   ]
  },
  {
   "cell_type": "code",
   "execution_count": 5,
   "metadata": {},
   "outputs": [
    {
     "data": {
      "text/plain": [
       "Index(['Date', 'State/UnionTerritory', 'Confirmed'], dtype='object')"
      ]
     },
     "execution_count": 5,
     "metadata": {},
     "output_type": "execute_result"
    }
   ],
   "source": [
    "df.columns"
   ]
  },
  {
   "cell_type": "code",
   "execution_count": 6,
   "metadata": {},
   "outputs": [],
   "source": [
    "df2 = df.pivot( index = 'Date', columns = 'State/UnionTerritory', values = 'Confirmed')"
   ]
  },
  {
   "cell_type": "code",
   "execution_count": 7,
   "metadata": {},
   "outputs": [
    {
     "data": {
      "text/html": [
       "<div>\n",
       "<style scoped>\n",
       "    .dataframe tbody tr th:only-of-type {\n",
       "        vertical-align: middle;\n",
       "    }\n",
       "\n",
       "    .dataframe tbody tr th {\n",
       "        vertical-align: top;\n",
       "    }\n",
       "\n",
       "    .dataframe thead th {\n",
       "        text-align: right;\n",
       "    }\n",
       "</style>\n",
       "<table border=\"1\" class=\"dataframe\">\n",
       "  <thead>\n",
       "    <tr style=\"text-align: right;\">\n",
       "      <th>State/UnionTerritory</th>\n",
       "      <th>Andaman and Nicobar Islands</th>\n",
       "      <th>Andhra Pradesh</th>\n",
       "      <th>Bihar</th>\n",
       "      <th>Chandigarh</th>\n",
       "      <th>Chattisgarh</th>\n",
       "      <th>Chhattisgarh</th>\n",
       "      <th>Delhi</th>\n",
       "      <th>Goa</th>\n",
       "      <th>Gujarat</th>\n",
       "      <th>Haryana</th>\n",
       "      <th>...</th>\n",
       "      <th>Pondicherry</th>\n",
       "      <th>Puducherry</th>\n",
       "      <th>Punjab</th>\n",
       "      <th>Rajasthan</th>\n",
       "      <th>Tamil Nadu</th>\n",
       "      <th>Telengana</th>\n",
       "      <th>Unassigned</th>\n",
       "      <th>Uttar Pradesh</th>\n",
       "      <th>Uttarakhand</th>\n",
       "      <th>West Bengal</th>\n",
       "    </tr>\n",
       "    <tr>\n",
       "      <th>Date</th>\n",
       "      <th></th>\n",
       "      <th></th>\n",
       "      <th></th>\n",
       "      <th></th>\n",
       "      <th></th>\n",
       "      <th></th>\n",
       "      <th></th>\n",
       "      <th></th>\n",
       "      <th></th>\n",
       "      <th></th>\n",
       "      <th></th>\n",
       "      <th></th>\n",
       "      <th></th>\n",
       "      <th></th>\n",
       "      <th></th>\n",
       "      <th></th>\n",
       "      <th></th>\n",
       "      <th></th>\n",
       "      <th></th>\n",
       "      <th></th>\n",
       "      <th></th>\n",
       "    </tr>\n",
       "  </thead>\n",
       "  <tbody>\n",
       "    <tr>\n",
       "      <th>2020-01-30</th>\n",
       "      <td>NaN</td>\n",
       "      <td>NaN</td>\n",
       "      <td>NaN</td>\n",
       "      <td>NaN</td>\n",
       "      <td>NaN</td>\n",
       "      <td>NaN</td>\n",
       "      <td>NaN</td>\n",
       "      <td>NaN</td>\n",
       "      <td>NaN</td>\n",
       "      <td>NaN</td>\n",
       "      <td>...</td>\n",
       "      <td>NaN</td>\n",
       "      <td>NaN</td>\n",
       "      <td>NaN</td>\n",
       "      <td>NaN</td>\n",
       "      <td>NaN</td>\n",
       "      <td>NaN</td>\n",
       "      <td>NaN</td>\n",
       "      <td>NaN</td>\n",
       "      <td>NaN</td>\n",
       "      <td>NaN</td>\n",
       "    </tr>\n",
       "    <tr>\n",
       "      <th>2020-01-31</th>\n",
       "      <td>NaN</td>\n",
       "      <td>NaN</td>\n",
       "      <td>NaN</td>\n",
       "      <td>NaN</td>\n",
       "      <td>NaN</td>\n",
       "      <td>NaN</td>\n",
       "      <td>NaN</td>\n",
       "      <td>NaN</td>\n",
       "      <td>NaN</td>\n",
       "      <td>NaN</td>\n",
       "      <td>...</td>\n",
       "      <td>NaN</td>\n",
       "      <td>NaN</td>\n",
       "      <td>NaN</td>\n",
       "      <td>NaN</td>\n",
       "      <td>NaN</td>\n",
       "      <td>NaN</td>\n",
       "      <td>NaN</td>\n",
       "      <td>NaN</td>\n",
       "      <td>NaN</td>\n",
       "      <td>NaN</td>\n",
       "    </tr>\n",
       "    <tr>\n",
       "      <th>2020-02-01</th>\n",
       "      <td>NaN</td>\n",
       "      <td>NaN</td>\n",
       "      <td>NaN</td>\n",
       "      <td>NaN</td>\n",
       "      <td>NaN</td>\n",
       "      <td>NaN</td>\n",
       "      <td>NaN</td>\n",
       "      <td>NaN</td>\n",
       "      <td>NaN</td>\n",
       "      <td>NaN</td>\n",
       "      <td>...</td>\n",
       "      <td>NaN</td>\n",
       "      <td>NaN</td>\n",
       "      <td>NaN</td>\n",
       "      <td>NaN</td>\n",
       "      <td>NaN</td>\n",
       "      <td>NaN</td>\n",
       "      <td>NaN</td>\n",
       "      <td>NaN</td>\n",
       "      <td>NaN</td>\n",
       "      <td>NaN</td>\n",
       "    </tr>\n",
       "    <tr>\n",
       "      <th>2020-02-02</th>\n",
       "      <td>NaN</td>\n",
       "      <td>NaN</td>\n",
       "      <td>NaN</td>\n",
       "      <td>NaN</td>\n",
       "      <td>NaN</td>\n",
       "      <td>NaN</td>\n",
       "      <td>NaN</td>\n",
       "      <td>NaN</td>\n",
       "      <td>NaN</td>\n",
       "      <td>NaN</td>\n",
       "      <td>...</td>\n",
       "      <td>NaN</td>\n",
       "      <td>NaN</td>\n",
       "      <td>NaN</td>\n",
       "      <td>NaN</td>\n",
       "      <td>NaN</td>\n",
       "      <td>NaN</td>\n",
       "      <td>NaN</td>\n",
       "      <td>NaN</td>\n",
       "      <td>NaN</td>\n",
       "      <td>NaN</td>\n",
       "    </tr>\n",
       "    <tr>\n",
       "      <th>2020-02-03</th>\n",
       "      <td>NaN</td>\n",
       "      <td>NaN</td>\n",
       "      <td>NaN</td>\n",
       "      <td>NaN</td>\n",
       "      <td>NaN</td>\n",
       "      <td>NaN</td>\n",
       "      <td>NaN</td>\n",
       "      <td>NaN</td>\n",
       "      <td>NaN</td>\n",
       "      <td>NaN</td>\n",
       "      <td>...</td>\n",
       "      <td>NaN</td>\n",
       "      <td>NaN</td>\n",
       "      <td>NaN</td>\n",
       "      <td>NaN</td>\n",
       "      <td>NaN</td>\n",
       "      <td>NaN</td>\n",
       "      <td>NaN</td>\n",
       "      <td>NaN</td>\n",
       "      <td>NaN</td>\n",
       "      <td>NaN</td>\n",
       "    </tr>\n",
       "  </tbody>\n",
       "</table>\n",
       "<p>5 rows × 30 columns</p>\n",
       "</div>"
      ],
      "text/plain": [
       "State/UnionTerritory  Andaman and Nicobar Islands  Andhra Pradesh  Bihar  \\\n",
       "Date                                                                       \n",
       "2020-01-30                                    NaN             NaN    NaN   \n",
       "2020-01-31                                    NaN             NaN    NaN   \n",
       "2020-02-01                                    NaN             NaN    NaN   \n",
       "2020-02-02                                    NaN             NaN    NaN   \n",
       "2020-02-03                                    NaN             NaN    NaN   \n",
       "\n",
       "State/UnionTerritory  Chandigarh  Chattisgarh  Chhattisgarh  Delhi  Goa  \\\n",
       "Date                                                                      \n",
       "2020-01-30                   NaN          NaN           NaN    NaN  NaN   \n",
       "2020-01-31                   NaN          NaN           NaN    NaN  NaN   \n",
       "2020-02-01                   NaN          NaN           NaN    NaN  NaN   \n",
       "2020-02-02                   NaN          NaN           NaN    NaN  NaN   \n",
       "2020-02-03                   NaN          NaN           NaN    NaN  NaN   \n",
       "\n",
       "State/UnionTerritory  Gujarat  Haryana  ...  Pondicherry  Puducherry  Punjab  \\\n",
       "Date                                    ...                                    \n",
       "2020-01-30                NaN      NaN  ...          NaN         NaN     NaN   \n",
       "2020-01-31                NaN      NaN  ...          NaN         NaN     NaN   \n",
       "2020-02-01                NaN      NaN  ...          NaN         NaN     NaN   \n",
       "2020-02-02                NaN      NaN  ...          NaN         NaN     NaN   \n",
       "2020-02-03                NaN      NaN  ...          NaN         NaN     NaN   \n",
       "\n",
       "State/UnionTerritory  Rajasthan  Tamil Nadu  Telengana  Unassigned  \\\n",
       "Date                                                                 \n",
       "2020-01-30                  NaN         NaN        NaN         NaN   \n",
       "2020-01-31                  NaN         NaN        NaN         NaN   \n",
       "2020-02-01                  NaN         NaN        NaN         NaN   \n",
       "2020-02-02                  NaN         NaN        NaN         NaN   \n",
       "2020-02-03                  NaN         NaN        NaN         NaN   \n",
       "\n",
       "State/UnionTerritory  Uttar Pradesh  Uttarakhand  West Bengal  \n",
       "Date                                                           \n",
       "2020-01-30                      NaN          NaN          NaN  \n",
       "2020-01-31                      NaN          NaN          NaN  \n",
       "2020-02-01                      NaN          NaN          NaN  \n",
       "2020-02-02                      NaN          NaN          NaN  \n",
       "2020-02-03                      NaN          NaN          NaN  \n",
       "\n",
       "[5 rows x 30 columns]"
      ]
     },
     "execution_count": 7,
     "metadata": {},
     "output_type": "execute_result"
    }
   ],
   "source": [
    "df2.head()"
   ]
  },
  {
   "cell_type": "code",
   "execution_count": 8,
   "metadata": {},
   "outputs": [
    {
     "data": {
      "text/plain": [
       "DatetimeIndex(['2020-01-30', '2020-01-31', '2020-02-01', '2020-02-02',\n",
       "               '2020-02-03', '2020-02-04', '2020-02-05', '2020-02-06',\n",
       "               '2020-02-07', '2020-02-08', '2020-02-09', '2020-02-10',\n",
       "               '2020-02-11', '2020-02-12', '2020-02-13', '2020-02-14',\n",
       "               '2020-02-15', '2020-02-16', '2020-02-17', '2020-02-18',\n",
       "               '2020-02-19', '2020-02-20', '2020-02-21', '2020-02-22',\n",
       "               '2020-02-23', '2020-02-24', '2020-02-25', '2020-02-26',\n",
       "               '2020-02-27', '2020-02-28', '2020-02-29', '2020-03-01',\n",
       "               '2020-03-02', '2020-03-03', '2020-03-04', '2020-03-05',\n",
       "               '2020-03-06', '2020-03-07', '2020-03-08', '2020-03-09',\n",
       "               '2020-03-10', '2020-03-11', '2020-03-12', '2020-03-13',\n",
       "               '2020-03-14', '2020-03-15', '2020-03-16', '2020-03-17',\n",
       "               '2020-03-18', '2020-03-19', '2020-03-20', '2020-03-21',\n",
       "               '2020-03-22', '2020-03-23', '2020-03-24', '2020-03-25',\n",
       "               '2020-03-26', '2020-03-27', '2020-03-28', '2020-03-29',\n",
       "               '2020-03-30', '2020-03-31', '2020-04-01'],\n",
       "              dtype='datetime64[ns]', name='Date', freq=None)"
      ]
     },
     "execution_count": 8,
     "metadata": {},
     "output_type": "execute_result"
    }
   ],
   "source": [
    "df2.index"
   ]
  },
  {
   "cell_type": "code",
   "execution_count": 9,
   "metadata": {},
   "outputs": [
    {
     "data": {
      "text/plain": [
       "Date\n",
       "2020-01-30   NaN\n",
       "2020-01-31   NaN\n",
       "2020-02-01   NaN\n",
       "2020-02-02   NaN\n",
       "2020-02-03   NaN\n",
       "              ..\n",
       "2020-03-28   NaN\n",
       "2020-03-29   NaN\n",
       "2020-03-30   NaN\n",
       "2020-03-31   NaN\n",
       "2020-04-01   NaN\n",
       "Name: Pondicherry, Length: 63, dtype: float64"
      ]
     },
     "execution_count": 9,
     "metadata": {},
     "output_type": "execute_result"
    }
   ],
   "source": [
    "df2['Pondicherry']"
   ]
  },
  {
   "cell_type": "code",
   "execution_count": 10,
   "metadata": {},
   "outputs": [
    {
     "data": {
      "text/plain": [
       "Date\n",
       "2020-01-30      1.0\n",
       "2020-01-31      1.0\n",
       "2020-02-01      2.0\n",
       "2020-02-02      3.0\n",
       "2020-02-03      3.0\n",
       "              ...  \n",
       "2020-03-28    176.0\n",
       "2020-03-29    182.0\n",
       "2020-03-30    202.0\n",
       "2020-03-31    234.0\n",
       "2020-04-01    241.0\n",
       "Name: Kerala, Length: 63, dtype: float64"
      ]
     },
     "execution_count": 10,
     "metadata": {},
     "output_type": "execute_result"
    }
   ],
   "source": [
    "df2.Kerala"
   ]
  },
  {
   "cell_type": "code",
   "execution_count": 11,
   "metadata": {},
   "outputs": [
    {
     "data": {
      "image/png": "[encoded data removed]",
      "text/plain": [
       "<Figure size 432x288 with 1 Axes>"
      ]
     },
     "metadata": {
      "needs_background": "light"
     },
     "output_type": "display_data"
    }
   ],
   "source": [
    "fig, ax = plt.subplots()\n",
    "\n",
    "ax.plot(df2.index, df2['Maharashtra'])\n",
    "ax.plot(df2.index, df2['Kerala'])\n",
    "ax.set_xlabel('Days')\n",
    "ax.set_ylabel('Number of patients')\n",
    "\n",
    "ax.set_title('Coronavirus - Kerala and Maharashtra')\n",
    "plt.show()"
   ]
  },
  {
   "cell_type": "code",
   "execution_count": 17,
   "metadata": {},
   "outputs": [],
   "source": [
    "march = df2['2020-03-01' :'2020-03-27']"
   ]
  },
  {
   "cell_type": "code",
   "execution_count": 19,
   "metadata": {},
   "outputs": [
    {
     "data": {
      "image/png": "[encoded data removed]",
      "text/plain": [
       "<Figure size 432x288 with 1 Axes>"
      ]
     },
     "metadata": {
      "needs_background": "light"
     },
     "output_type": "display_data"
    }
   ],
   "source": [
    "fig, ax= plt.subplots()\n",
    "\n",
    "\n",
    "\n",
    "ax.plot(march.index, march['Maharashtra'])\n",
    "ax.plot(march.index, march['Kerala'])\n",
    "\n",
    "ax.set_xticklabels(march.index, rotation = 90)\n",
    "plt.show()"
   ]
  }
 ],
 "metadata": {
  "kernelspec": {
   "display_name": "Python 3",
   "language": "python",
   "name": "python3"
  },
  "language_info": {
   "codemirror_mode": {
    "name": "ipython",
    "version": 3
   },
   "file_extension": ".py",
   "mimetype": "text/x-python",
   "name": "python",
   "nbconvert_exporter": "python",
   "pygments_lexer": "ipython3",
   "version": "3.7.6"
  }
 },
 "nbformat": 4,
 "nbformat_minor": 4
}
